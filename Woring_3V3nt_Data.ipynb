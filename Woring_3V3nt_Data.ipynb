{
  "nbformat": 4,
  "nbformat_minor": 0,
  "metadata": {
    "colab": {
      "name": "Woring 3V3nt Data",
      "provenance": [],
      "collapsed_sections": []
    },
    "kernelspec": {
      "name": "python3",
      "display_name": "Python 3"
    }
  },
  "cells": [
    {
      "cell_type": "markdown",
      "metadata": {
        "id": "Cc2bKZ53NJHa"
      },
      "source": [
        "# **Installing**"
      ]
    },
    {
      "cell_type": "code",
      "metadata": {
        "colab": {
          "base_uri": "https://localhost:8080/"
        },
        "id": "YnL9EXkyQx_p",
        "outputId": "3e21451c-62c1-4bb8-fcaf-c51bf27fcf1b"
      },
      "source": [
        "pip install mplsoccer\n"
      ],
      "execution_count": 34,
      "outputs": [
        {
          "output_type": "stream",
          "text": [
            "Collecting mplsoccer\n",
            "\u001b[?25l  Downloading https://files.pythonhosted.org/packages/d9/0a/38aadb31c75d093be38b8046a38dfb10b678c59e796e2595f8225225be18/mplsoccer-1.0.3.tar.gz (57kB)\n",
            "\r\u001b[K     |█████▊                          | 10kB 10.9MB/s eta 0:00:01\r\u001b[K     |███████████▍                    | 20kB 13.9MB/s eta 0:00:01\r\u001b[K     |█████████████████               | 30kB 10.9MB/s eta 0:00:01\r\u001b[K     |██████████████████████▉         | 40kB 9.1MB/s eta 0:00:01\r\u001b[K     |████████████████████████████▌   | 51kB 5.0MB/s eta 0:00:01\r\u001b[K     |████████████████████████████████| 61kB 3.0MB/s \n",
            "\u001b[?25hRequirement already satisfied: matplotlib in /usr/local/lib/python3.7/dist-packages (from mplsoccer) (3.2.2)\n",
            "Requirement already satisfied: seaborn in /usr/local/lib/python3.7/dist-packages (from mplsoccer) (0.11.1)\n",
            "Requirement already satisfied: scipy in /usr/local/lib/python3.7/dist-packages (from mplsoccer) (1.4.1)\n",
            "Requirement already satisfied: pandas in /usr/local/lib/python3.7/dist-packages (from mplsoccer) (1.1.5)\n",
            "Requirement already satisfied: pillow in /usr/local/lib/python3.7/dist-packages (from mplsoccer) (7.1.2)\n",
            "Requirement already satisfied: numpy in /usr/local/lib/python3.7/dist-packages (from mplsoccer) (1.19.5)\n",
            "Requirement already satisfied: beautifulsoup4 in /usr/local/lib/python3.7/dist-packages (from mplsoccer) (4.6.3)\n",
            "Requirement already satisfied: python-dateutil>=2.1 in /usr/local/lib/python3.7/dist-packages (from matplotlib->mplsoccer) (2.8.1)\n",
            "Requirement already satisfied: pyparsing!=2.0.4,!=2.1.2,!=2.1.6,>=2.0.1 in /usr/local/lib/python3.7/dist-packages (from matplotlib->mplsoccer) (2.4.7)\n",
            "Requirement already satisfied: cycler>=0.10 in /usr/local/lib/python3.7/dist-packages (from matplotlib->mplsoccer) (0.10.0)\n",
            "Requirement already satisfied: kiwisolver>=1.0.1 in /usr/local/lib/python3.7/dist-packages (from matplotlib->mplsoccer) (1.3.1)\n",
            "Requirement already satisfied: pytz>=2017.2 in /usr/local/lib/python3.7/dist-packages (from pandas->mplsoccer) (2021.1)\n",
            "Requirement already satisfied: six>=1.5 in /usr/local/lib/python3.7/dist-packages (from python-dateutil>=2.1->matplotlib->mplsoccer) (1.15.0)\n",
            "Building wheels for collected packages: mplsoccer\n",
            "  Building wheel for mplsoccer (setup.py) ... \u001b[?25l\u001b[?25hdone\n",
            "  Created wheel for mplsoccer: filename=mplsoccer-1.0.3-cp37-none-any.whl size=62543 sha256=bd31d8fb11a72e49766afc6309a482b71fe81240d56bda5d31ab7aea46d9f109\n",
            "  Stored in directory: /root/.cache/pip/wheels/02/b5/99/8c364376446a068fd00c706d9bc73bda463a2470f2ded75de8\n",
            "Successfully built mplsoccer\n",
            "Installing collected packages: mplsoccer\n",
            "Successfully installed mplsoccer-1.0.3\n"
          ],
          "name": "stdout"
        }
      ]
    },
    {
      "cell_type": "code",
      "metadata": {
        "colab": {
          "base_uri": "https://localhost:8080/",
          "height": 666
        },
        "id": "Dx5Hy7qDLaj0",
        "outputId": "ae069c10-e872-4ecc-cc4f-32c87be68e49"
      },
      "source": [
        "pip install kloppy"
      ],
      "execution_count": 4,
      "outputs": [
        {
          "output_type": "stream",
          "text": [
            "Collecting kloppy\n",
            "\u001b[?25l  Downloading https://files.pythonhosted.org/packages/7c/af/db188aca7a7a43c1426fe2d0d4a55cd97a0f3906237e70564fd9b486c1bf/kloppy-1.5.2.tar.gz (60kB)\n",
            "\u001b[K     |████████████████████████████████| 61kB 3.3MB/s \n",
            "\u001b[?25h  Installing build dependencies ... \u001b[?25l\u001b[?25hdone\n",
            "  Getting requirements to build wheel ... \u001b[?25l\u001b[?25hdone\n",
            "    Preparing wheel metadata ... \u001b[?25l\u001b[?25hdone\n",
            "Requirement already satisfied: networkx>=2.4 in /usr/local/lib/python3.7/dist-packages (from kloppy) (2.5.1)\n",
            "Collecting lxml>=4.5.0\n",
            "\u001b[?25l  Downloading https://files.pythonhosted.org/packages/30/c0/d0526314971fc661b083ab135747dc68446a3022686da8c16d25fcf6ef07/lxml-4.6.3-cp37-cp37m-manylinux2014_x86_64.whl (6.3MB)\n",
            "\u001b[K     |████████████████████████████████| 6.3MB 6.2MB/s \n",
            "\u001b[?25hCollecting pytz>=2020.1\n",
            "\u001b[?25l  Downloading https://files.pythonhosted.org/packages/70/94/784178ca5dd892a98f113cdd923372024dc04b8d40abe77ca76b5fb90ca6/pytz-2021.1-py2.py3-none-any.whl (510kB)\n",
            "\u001b[K     |████████████████████████████████| 512kB 36.8MB/s \n",
            "\u001b[?25hRequirement already satisfied: requests>=2.0.0 in /usr/local/lib/python3.7/dist-packages (from kloppy) (2.23.0)\n",
            "Requirement already satisfied: decorator<5,>=4.3 in /usr/local/lib/python3.7/dist-packages (from networkx>=2.4->kloppy) (4.4.2)\n",
            "Requirement already satisfied: urllib3!=1.25.0,!=1.25.1,<1.26,>=1.21.1 in /usr/local/lib/python3.7/dist-packages (from requests>=2.0.0->kloppy) (1.24.3)\n",
            "Requirement already satisfied: idna<3,>=2.5 in /usr/local/lib/python3.7/dist-packages (from requests>=2.0.0->kloppy) (2.10)\n",
            "Requirement already satisfied: certifi>=2017.4.17 in /usr/local/lib/python3.7/dist-packages (from requests>=2.0.0->kloppy) (2020.12.5)\n",
            "Requirement already satisfied: chardet<4,>=3.0.2 in /usr/local/lib/python3.7/dist-packages (from requests>=2.0.0->kloppy) (3.0.4)\n",
            "Building wheels for collected packages: kloppy\n",
            "  Building wheel for kloppy (PEP 517) ... \u001b[?25l\u001b[?25hdone\n",
            "  Created wheel for kloppy: filename=kloppy-1.5.2-cp37-none-any.whl size=88482 sha256=6d9ef1e4e0f29b79b8765003f8ad5edc312c830e708b2ca5057e450c1b02ff87\n",
            "  Stored in directory: /root/.cache/pip/wheels/2e/97/78/c94ba0dc45b08ca3ef29a56f6fd15aa90e0409e8e7433e8925\n",
            "Successfully built kloppy\n",
            "Installing collected packages: lxml, pytz, kloppy\n",
            "  Found existing installation: lxml 4.2.6\n",
            "    Uninstalling lxml-4.2.6:\n",
            "      Successfully uninstalled lxml-4.2.6\n",
            "  Found existing installation: pytz 2018.9\n",
            "    Uninstalling pytz-2018.9:\n",
            "      Successfully uninstalled pytz-2018.9\n",
            "Successfully installed kloppy-1.5.2 lxml-4.6.3 pytz-2021.1\n"
          ],
          "name": "stdout"
        },
        {
          "output_type": "display_data",
          "data": {
            "application/vnd.colab-display-data+json": {
              "pip_warning": {
                "packages": [
                  "pytz"
                ]
              }
            }
          },
          "metadata": {
            "tags": []
          }
        }
      ]
    },
    {
      "cell_type": "markdown",
      "metadata": {
        "id": "8yAsnCnWKYn-"
      },
      "source": [
        "# **Intro : matching a string**"
      ]
    },
    {
      "cell_type": "code",
      "metadata": {
        "colab": {
          "base_uri": "https://localhost:8080/"
        },
        "id": "GRIi6mk4NHCc",
        "outputId": "89e8c889-8fa4-407b-cbac-7835bcf25eed"
      },
      "source": [
        "import re\n",
        "\n",
        "string = '1234AB'\n",
        "\n",
        "if re.match('([0-9]{4}[A-Z]{2})', string):\n",
        "    print(\"match\")\n",
        "else:\n",
        "    print(\"no match\")"
      ],
      "execution_count": 10,
      "outputs": [
        {
          "output_type": "stream",
          "text": [
            "match\n"
          ],
          "name": "stdout"
        }
      ]
    },
    {
      "cell_type": "code",
      "metadata": {
        "colab": {
          "base_uri": "https://localhost:8080/"
        },
        "id": "KJrN2x7uNSEW",
        "outputId": "856f9c83-235f-4b66-c0d1-36964f35d608"
      },
      "source": [
        "string = '12345AB'\n",
        "\n",
        "if re.match('([0-9]{4}[A-Z]{2})', string):\n",
        "    print(\"match\")\n",
        "else:\n",
        "    print(\"no match\")"
      ],
      "execution_count": 11,
      "outputs": [
        {
          "output_type": "stream",
          "text": [
            "no match\n"
          ],
          "name": "stdout"
        }
      ]
    },
    {
      "cell_type": "markdown",
      "metadata": {
        "id": "V6HXtx8yLJYl"
      },
      "source": [
        "# **Intro : searching for patterns**"
      ]
    },
    {
      "cell_type": "code",
      "metadata": {
        "colab": {
          "base_uri": "https://localhost:8080/"
        },
        "id": "WxKdjWOdNXJl",
        "outputId": "dabae15a-2ec3-4664-e5ae-819f9d381a38"
      },
      "source": [
        "import re\n",
        "\n",
        "string = \"Koen 1234AB Henk 123P8 Kees 0000BB 817 0987ZZ 9999AA\"\n",
        "\n",
        "results = re.findall('([0-9]{4}[A-Z]{2})', string)\n",
        "results"
      ],
      "execution_count": 12,
      "outputs": [
        {
          "output_type": "execute_result",
          "data": {
            "text/plain": [
              "['1234AB', '0000BB', '0987ZZ', '9999AA']"
            ]
          },
          "metadata": {
            "tags": []
          },
          "execution_count": 12
        }
      ]
    },
    {
      "cell_type": "code",
      "metadata": {
        "id": "PY1umdKVNW_l"
      },
      "source": [
        "import re\n",
        "from dataclasses import dataclass\n",
        "from typing import Callable, List\n",
        "\n",
        "from kloppy import datasets, to_pandas\n",
        "from kloppy.domain import Event, EventDataset\n",
        "\n",
        "\n",
        "@dataclass\n",
        "class IndexEntry:\n",
        "    start_pos: int\n",
        "    end_pos: int\n",
        "    event: Event\n",
        "\n",
        "\n",
        "class Matcher:\n",
        "    def __init__(self, encoder: Callable[[Event], str]):\n",
        "        self.encoder = encoder\n",
        "\n",
        "    def search(self, dataset: EventDataset, pattern: str) -> List[List[Event]]:\n",
        "        # Step 1: encode events and build index\n",
        "        index = []\n",
        "        encoded_str = ''\n",
        "        for event in dataset.events:\n",
        "            encoded_event = self.encoder(event)\n",
        "            if not encoded_event:\n",
        "                continue\n",
        "\n",
        "            current_pos = len(encoded_str)\n",
        "            index_entry = IndexEntry(\n",
        "                start_pos=current_pos,\n",
        "                end_pos=current_pos + len(encoded_event),\n",
        "                event=event\n",
        "            )\n",
        "            index.append(index_entry)\n",
        "\n",
        "            encoded_str += encoded_event\n",
        "\n",
        "        # Step 2: Search using regular expression\n",
        "        results = re.finditer(pattern, encoded_str)\n",
        "\n",
        "        # Step 3: Decode back to match (List of Events)\n",
        "        matches = []\n",
        "        index_pos = 0\n",
        "        index_length = len(index)\n",
        "        for result in results:\n",
        "            start_pos, end_pos = result.span()\n",
        "\n",
        "            match = []\n",
        "            for i in range(index_pos, index_length):\n",
        "                index_entry = index[i]\n",
        "\n",
        "                if index_entry.start_pos >= end_pos:\n",
        "                    index_pos = i\n",
        "                    break\n",
        "                elif index_entry.start_pos >= start_pos:\n",
        "                    match.append(index_entry.event)\n",
        "\n",
        "            matches.append(match)\n",
        "\n",
        "        return matches"
      ],
      "execution_count": 13,
      "outputs": []
    },
    {
      "cell_type": "markdown",
      "metadata": {
        "id": "I3lGxpryNeXl"
      },
      "source": [
        "# **Event data**"
      ]
    },
    {
      "cell_type": "code",
      "metadata": {
        "colab": {
          "base_uri": "https://localhost:8080/"
        },
        "id": "Sbhf4NhHNmSn",
        "outputId": "2dbb746c-dd9c-413d-80fe-30a693c92c83"
      },
      "source": [
        "from kloppy import datasets\n",
        "\n",
        "dataset = datasets.load('statsbomb')\n",
        "print(f\"{dataset.metadata.teams[0]} - {dataset.metadata.teams[1]}\")"
      ],
      "execution_count": 14,
      "outputs": [
        {
          "output_type": "stream",
          "text": [
            "/usr/local/lib/python3.7/dist-packages/kloppy/infra/datasets/event/statsbomb.py:12: UserWarning: \n",
            "\n",
            "You are about to use StatsBomb public data.\n",
            "By using this data, you are agreeing to the user agreement. \n",
            "The user agreement can be found here: https://github.com/statsbomb/open-data/blob/master/LICENSE.pdf\n",
            "\n",
            "  \"\\n\\nYou are about to use StatsBomb public data.\"\n"
          ],
          "name": "stderr"
        },
        {
          "output_type": "stream",
          "text": [
            "Barcelona - Deportivo Alavés\n"
          ],
          "name": "stdout"
        }
      ]
    },
    {
      "cell_type": "markdown",
      "metadata": {
        "id": "6Cq12ENjNkZw"
      },
      "source": [
        "# **Event data**"
      ]
    },
    {
      "cell_type": "code",
      "metadata": {
        "colab": {
          "base_uri": "https://localhost:8080/"
        },
        "id": "EcmSdrAzN-T1",
        "outputId": "500bfe15-61f7-49e8-81e5-c379290089f3"
      },
      "source": [
        "import dataclasses\n",
        "\n",
        "def print_event(event):\n",
        "    for field in dataclasses.fields(event):\n",
        "        if field.name == 'raw_event':\n",
        "            continue\n",
        "        print(f\"{field.name: <20}: {str(getattr(event, field.name))}\")\n",
        "\n",
        "\n",
        "print_event(dataset.events[21])"
      ],
      "execution_count": 15,
      "outputs": [
        {
          "output_type": "stream",
          "text": [
            "period              : Period(id=1, start_timestamp=0.0, end_timestamp=2705.267, attacking_direction=not-set)\n",
            "timestamp           : 24.687\n",
            "ball_owning_team    : Barcelona\n",
            "ball_state          : BallState.ALIVE\n",
            "event_id            : 126756d5-bfe3-44a7-a2c3-d36fb4d0a548\n",
            "team                : Deportivo Alavés\n",
            "player              : Víctor Laguardia Cisneros\n",
            "coordinates         : Point(x=35.5, y=68.5)\n",
            "result              : PassResult.INCOMPLETE\n",
            "state               : {}\n",
            "qualifiers          : [BodyPartQualifier(value=<BodyPart.RIGHT_FOOT: 'RIGHT_FOOT'>)]\n",
            "receive_timestamp   : 28.826\n",
            "receiver_player     : None\n",
            "receiver_coordinates: Point(x=107.5, y=54.5)\n",
            "event_type          : EventType.PASS\n",
            "event_name          : pass\n"
          ],
          "name": "stdout"
        }
      ]
    },
    {
      "cell_type": "markdown",
      "metadata": {
        "id": "OIt-AkffOI04"
      },
      "source": [
        "# **Encoder**"
      ]
    },
    {
      "cell_type": "code",
      "metadata": {
        "id": "JS_HLmQvOLag"
      },
      "source": [
        "def encoder(event: Event):\n",
        "    if event.event_name == 'pass':\n",
        "        return 'P'\n",
        "    elif event.event_name == 'shot':\n",
        "        return 'S'"
      ],
      "execution_count": 17,
      "outputs": []
    },
    {
      "cell_type": "markdown",
      "metadata": {
        "id": "D9Zgzk-bOIZ9"
      },
      "source": [
        "# **Searching**"
      ]
    },
    {
      "cell_type": "code",
      "metadata": {
        "colab": {
          "base_uri": "https://localhost:8080/"
        },
        "id": "Y0GsBJwXOTcb",
        "outputId": "866e5ebe-2ff7-48fb-e3d4-a121e98bd4b8"
      },
      "source": [
        "from kloppy.utils import performance_logging\n",
        "\n",
        "\n",
        "def encoder(event: Event):\n",
        "    if event.event_name == 'pass':\n",
        "        return 'P'\n",
        "    elif event.event_name == 'shot':\n",
        "        return 'S'\n",
        "    \n",
        "\n",
        "matcher = Matcher(encoder)\n",
        "\n",
        "with performance_logging(\"search\"):\n",
        "    results = matcher.search(dataset, pattern=\"PS\")\n",
        "\n",
        "print(f\"Results: {len(results)}\\n\")"
      ],
      "execution_count": 18,
      "outputs": [
        {
          "output_type": "stream",
          "text": [
            "search took: 11.72ms \n",
            "Results: 27\n",
            "\n"
          ],
          "name": "stdout"
        }
      ]
    },
    {
      "cell_type": "markdown",
      "metadata": {
        "id": "-T6DT7gQOXvM"
      },
      "source": [
        "# **The result**\n",
        "\n"
      ]
    },
    {
      "cell_type": "code",
      "metadata": {
        "colab": {
          "base_uri": "https://localhost:8080/"
        },
        "id": "UeMbtIYdOYLe",
        "outputId": "b7ff67b8-dd38-446c-8fb2-887c627e8e9c"
      },
      "source": [
        "print(to_pandas(results[0]))"
      ],
      "execution_count": 19,
      "outputs": [
        {
          "output_type": "stream",
          "text": [
            "                               event_id  ... body_part_type\n",
            "0  b96db2cb-9123-4596-9bfc-537a645c5991  ...     RIGHT_FOOT\n",
            "1  65f16e50-7c5d-4293-b2fc-d20887a772f9  ...     RIGHT_FOOT\n",
            "\n",
            "[2 rows x 17 columns]\n"
          ],
          "name": "stdout"
        }
      ]
    },
    {
      "cell_type": "code",
      "metadata": {
        "id": "25Ov3nDjOyOV"
      },
      "source": [
        "from kloppy import to_pandas\n",
        "\n",
        "import pandas as pd\n",
        "pd.set_option('display.max_colwidth', None)\n",
        "pd.set_option('display.max_columns', None)\n",
        "pd.set_option('display.max_rows', None)\n",
        "pd.set_option('display.width', 2000)\n",
        "\n",
        "def print_results(results, limit=100):\n",
        "    for i, result in enumerate(results[:limit]):\n",
        "        df = to_pandas(\n",
        "            result,\n",
        "            additional_columns={\n",
        "                'player_name': lambda event: event.player.full_name,\n",
        "                'team_name': lambda event: str(event.team),\n",
        "                'x': lambda event: event.coordinates.x,\n",
        "                'y': lambda event: event.coordinates.y\n",
        "            }\n",
        "        )\n",
        "        print(f\"Result {i}:\")\n",
        "        print(df[['timestamp', 'team_name', 'player_name', 'event_type', 'result', 'x', 'y']])\n",
        "        print(\"\")"
      ],
      "execution_count": 20,
      "outputs": []
    },
    {
      "cell_type": "code",
      "metadata": {
        "colab": {
          "base_uri": "https://localhost:8080/"
        },
        "id": "XcEMQrHcO0n3",
        "outputId": "03d905fa-8d37-418b-f753-484d550ac714"
      },
      "source": [
        "print_results(results)\n"
      ],
      "execution_count": 21,
      "outputs": [
        {
          "output_type": "stream",
          "text": [
            "Result 0:\n",
            "   timestamp  team_name                     player_name event_type      result       x      y\n",
            "0    144.126  Barcelona                    Ivan Rakitić       PASS    COMPLETE   49.50  25.50\n",
            "1    149.094  Barcelona  Lionel Andrés Messi Cuccittini       SHOT  OFF_TARGET  111.65  51.65\n",
            "\n",
            "Result 1:\n",
            "   timestamp  team_name                     player_name event_type      result       x      y\n",
            "0    337.369  Barcelona  Lionel Andrés Messi Cuccittini       PASS    COMPLETE   92.50  56.50\n",
            "1    339.239  Barcelona                Jordi Alba Ramos       SHOT  OFF_TARGET  113.95  26.95\n",
            "\n",
            "Result 2:\n",
            "   timestamp         team_name                     player_name event_type    result      x      y\n",
            "0    924.984  Deportivo Alavés            Rubén Duarte Sánchez       PASS  COMPLETE  23.50  33.50\n",
            "1    928.625         Barcelona  Lionel Andrés Messi Cuccittini       SHOT     SAVED  91.95  34.45\n",
            "\n",
            "Result 3:\n",
            "   timestamp         team_name                      player_name event_type      result       x      y\n",
            "0    978.568  Deportivo Alavés  Manuel Alejandro García Sánchez       PASS    COMPLETE   99.50  15.50\n",
            "1    979.616  Deportivo Alavés            Rubén Sobrino Pozuelo       SHOT  OFF_TARGET  109.05  38.65\n",
            "\n",
            "Result 4:\n",
            "   timestamp  team_name               player_name event_type      result       x      y\n",
            "0   1091.428  Barcelona           Ousmane Dembélé       PASS  INCOMPLETE  109.50  58.50\n",
            "1   1095.914  Barcelona  Luis Alberto Suárez Díaz       SHOT  OFF_TARGET  106.95  24.95\n",
            "\n",
            "Result 5:\n",
            "   timestamp  team_name               player_name event_type      result       x      y\n",
            "0   1840.205  Barcelona  Luis Alberto Suárez Díaz       PASS    COMPLETE   88.50  26.50\n",
            "1   1842.287  Barcelona           Ousmane Dembélé       SHOT  OFF_TARGET  108.05  27.35\n",
            "\n",
            "Result 6:\n",
            "   timestamp  team_name                     player_name event_type      result       x      y\n",
            "0   2103.972  Barcelona  Lionel Andrés Messi Cuccittini       PASS    COMPLETE  102.50  62.50\n",
            "1   2104.861  Barcelona                    Ivan Rakitić       SHOT  OFF_TARGET  111.95  43.65\n",
            "\n",
            "Result 7:\n",
            "   timestamp  team_name                     player_name event_type result      x      y\n",
            "0   2174.936  Barcelona  Lionel Andrés Messi Cuccittini       PASS   None  95.50  54.50\n",
            "1   2248.168  Barcelona  Lionel Andrés Messi Cuccittini       SHOT   POST  96.95  53.95\n",
            "\n",
            "Result 8:\n",
            "   timestamp  team_name                     player_name event_type    result       x      y\n",
            "0   2305.600  Barcelona  Lionel Andrés Messi Cuccittini       PASS  COMPLETE   77.50  41.50\n",
            "1   2308.083  Barcelona                 Ousmane Dembélé       SHOT     SAVED  102.45  29.15\n",
            "\n",
            "Result 9:\n",
            "   timestamp  team_name               player_name event_type      result       x      y\n",
            "0   2431.179  Barcelona          Jordi Alba Ramos       PASS    COMPLETE   60.50   3.50\n",
            "1   2434.592  Barcelona  Luis Alberto Suárez Díaz       SHOT  OFF_TARGET  109.25  29.65\n",
            "\n",
            "Result 10:\n",
            "   timestamp  team_name       player_name event_type      result       x      y\n",
            "0   2610.041  Barcelona  Jordi Alba Ramos       PASS    COMPLETE  111.50  21.50\n",
            "1   2610.612  Barcelona   Ousmane Dembélé       SHOT  OFF_TARGET  106.45  33.45\n",
            "\n",
            "Result 11:\n",
            "   timestamp  team_name       player_name event_type    result       x      y\n",
            "0    156.575  Barcelona   Ousmane Dembélé       PASS  COMPLETE   99.50  30.50\n",
            "1    159.524  Barcelona  Jordi Alba Ramos       SHOT     SAVED  116.85  31.15\n",
            "\n",
            "Result 12:\n",
            "   timestamp         team_name            player_name event_type      result       x      y\n",
            "0    365.421         Barcelona  Gerard Piqué Bernabéu       PASS  INCOMPLETE    2.50  67.50\n",
            "1    367.400  Deportivo Alavés         Mubarak Wakaso       SHOT     BLOCKED  105.95  22.95\n",
            "\n",
            "Result 13:\n",
            "   timestamp  team_name               player_name event_type      result       x      y\n",
            "0    527.828  Barcelona          Jordi Alba Ramos       PASS  INCOMPLETE  116.50  26.50\n",
            "1    534.355  Barcelona  Luis Alberto Suárez Díaz       SHOT     BLOCKED  111.05  24.05\n",
            "\n",
            "Result 14:\n",
            "   timestamp  team_name                player_name event_type    result       x      y\n",
            "0    593.181  Barcelona           Jordi Alba Ramos       PASS  COMPLETE  111.50  13.50\n",
            "1    596.388  Barcelona  Philippe Coutinho Correia       SHOT   BLOCKED   94.35  24.45\n",
            "\n",
            "Result 15:\n",
            "   timestamp  team_name       player_name event_type    result       x      y\n",
            "0    633.054  Barcelona   Ousmane Dembélé       PASS  COMPLETE  105.50  31.50\n",
            "1    634.490  Barcelona  Jordi Alba Ramos       SHOT   BLOCKED  107.35  25.85\n",
            "\n",
            "Result 16:\n",
            "   timestamp  team_name                     player_name event_type      result       x      y\n",
            "0    738.448  Barcelona       Philippe Coutinho Correia       PASS    COMPLETE  104.50  59.50\n",
            "1    740.847  Barcelona  Lionel Andrés Messi Cuccittini       SHOT  OFF_TARGET  100.05  58.05\n",
            "\n",
            "Result 17:\n",
            "   timestamp  team_name                player_name event_type    result       x      y\n",
            "0    932.676  Barcelona  Philippe Coutinho Correia       PASS  COMPLETE   94.50  11.50\n",
            "1    936.156  Barcelona  Philippe Coutinho Correia       SHOT   BLOCKED  100.15  27.65\n",
            "\n",
            "Result 18:\n",
            "   timestamp  team_name                     player_name event_type    result      x      y\n",
            "0   1018.492  Barcelona                    Ivan Rakitić       PASS  COMPLETE  94.50  59.50\n",
            "1   1091.954  Barcelona  Lionel Andrés Messi Cuccittini       SHOT      GOAL  96.05  45.05\n",
            "\n",
            "Result 19:\n",
            "   timestamp  team_name                     player_name event_type    result       x      y\n",
            "0   1240.630  Barcelona        Luis Alberto Suárez Díaz       PASS  COMPLETE  109.50  60.50\n",
            "1   1243.588  Barcelona  Lionel Andrés Messi Cuccittini       SHOT      POST  106.05  47.05\n",
            "\n",
            "Result 20:\n",
            "   timestamp  team_name         player_name event_type    result      x      y\n",
            "0   1403.314  Barcelona  Samuel Yves Umtiti       PASS  COMPLETE  50.50  20.50\n",
            "1   1413.375  Barcelona        Ivan Rakitić       SHOT   BLOCKED  88.65  42.75\n",
            "\n",
            "Result 21:\n",
            "   timestamp         team_name               player_name event_type      result       x      y\n",
            "0   1644.990  Deportivo Alavés        Jorge Franco Alviz       PASS  INCOMPLETE   28.50  55.50\n",
            "1   1647.492         Barcelona  Luis Alberto Suárez Díaz       SHOT       SAVED  109.05  30.05\n",
            "\n",
            "Result 22:\n",
            "   timestamp         team_name         player_name event_type      result       x      y\n",
            "0   1995.725  Deportivo Alavés    Ibai Gómez Pérez       PASS    COMPLETE   83.50  64.50\n",
            "1   1997.679  Deportivo Alavés  Adrián Marín Gómez       SHOT  OFF_TARGET  113.35  33.45\n",
            "\n",
            "Result 23:\n",
            "   timestamp  team_name                     player_name event_type    result       x      y\n",
            "0   2189.648  Barcelona  Lionel Andrés Messi Cuccittini       PASS  COMPLETE   93.50  44.50\n",
            "1   2191.606  Barcelona       Philippe Coutinho Correia       SHOT     SAVED  113.35  31.05\n",
            "\n",
            "Result 24:\n",
            "   timestamp  team_name                             player_name event_type    result       x      y\n",
            "0   2257.255  Barcelona  Arthur Henrique Ramos de Oliveira Melo       PASS  COMPLETE   85.50  34.50\n",
            "1   2261.578  Barcelona               Philippe Coutinho Correia       SHOT      GOAL  105.05  31.05\n",
            "\n",
            "Result 25:\n",
            "   timestamp  team_name                     player_name event_type    result       x      y\n",
            "0   2659.241  Barcelona          Sergi Roberto Carnicer       PASS  COMPLETE   98.50  59.50\n",
            "1   2662.638  Barcelona  Lionel Andrés Messi Cuccittini       SHOT     SAVED  106.05  46.05\n",
            "\n",
            "Result 26:\n",
            "   timestamp  team_name                     player_name event_type    result       x      y\n",
            "0   2798.906  Barcelona        Luis Alberto Suárez Díaz       PASS  COMPLETE   83.50  27.50\n",
            "1   2802.770  Barcelona  Lionel Andrés Messi Cuccittini       SHOT      GOAL  111.95  34.55\n",
            "\n"
          ],
          "name": "stdout"
        }
      ]
    },
    {
      "cell_type": "code",
      "metadata": {
        "colab": {
          "base_uri": "https://localhost:8080/"
        },
        "id": "cdaC0ZYcO4rN",
        "outputId": "f0a313dd-2359-4208-89b6-757166905b5f"
      },
      "source": [
        "print_results(results[2:3])\n",
        "print_results(results[12:13])\n",
        "print_results(results[21:22])"
      ],
      "execution_count": 22,
      "outputs": [
        {
          "output_type": "stream",
          "text": [
            "Result 0:\n",
            "   timestamp         team_name                     player_name event_type    result      x      y\n",
            "0    924.984  Deportivo Alavés            Rubén Duarte Sánchez       PASS  COMPLETE  23.50  33.50\n",
            "1    928.625         Barcelona  Lionel Andrés Messi Cuccittini       SHOT     SAVED  91.95  34.45\n",
            "\n",
            "Result 0:\n",
            "   timestamp         team_name            player_name event_type      result       x      y\n",
            "0    365.421         Barcelona  Gerard Piqué Bernabéu       PASS  INCOMPLETE    2.50  67.50\n",
            "1    367.400  Deportivo Alavés         Mubarak Wakaso       SHOT     BLOCKED  105.95  22.95\n",
            "\n",
            "Result 0:\n",
            "   timestamp         team_name               player_name event_type      result       x      y\n",
            "0   1644.990  Deportivo Alavés        Jorge Franco Alviz       PASS  INCOMPLETE   28.50  55.50\n",
            "1   1647.492         Barcelona  Luis Alberto Suárez Díaz       SHOT       SAVED  109.05  30.05\n",
            "\n"
          ],
          "name": "stdout"
        }
      ]
    },
    {
      "cell_type": "markdown",
      "metadata": {
        "id": "gYDsbNWwO9r9"
      },
      "source": [
        "# **Add teams**"
      ]
    },
    {
      "cell_type": "code",
      "metadata": {
        "id": "48KJip8NPAbY"
      },
      "source": [
        "from kloppy.domain import Ground\n",
        "\n",
        "def encoder_with_team(event: Event):\n",
        "    if event.event_name == 'pass':\n",
        "        encoded_str = 'P'\n",
        "    elif event.event_name == 'shot':\n",
        "        encoded_str = 'S'\n",
        "    else:\n",
        "        return None\n",
        "    \n",
        "    encoded_str += 'H' if event.team.ground == Ground.HOME else 'A'\n",
        "    \n",
        "    return encoded_str\n",
        "\n",
        "    \n",
        "\n",
        "matcher_with_team = Matcher(encoder_with_team)"
      ],
      "execution_count": 24,
      "outputs": []
    },
    {
      "cell_type": "code",
      "metadata": {
        "colab": {
          "base_uri": "https://localhost:8080/"
        },
        "id": "6U2tkoz-QHwK",
        "outputId": "ab3570ff-6cd6-4e3e-bb4e-37a37bebdb1f"
      },
      "source": [
        "with performance_logging(\"search\"):\n",
        "    results = matcher_with_team.search(dataset, pattern=r\"P([AH])S(\\1)\")\n",
        "    \n",
        "print_results(results)"
      ],
      "execution_count": 25,
      "outputs": [
        {
          "output_type": "stream",
          "text": [
            "search took: 11.48ms \n",
            "Result 0:\n",
            "   timestamp  team_name                     player_name event_type      result       x      y\n",
            "0    144.126  Barcelona                    Ivan Rakitić       PASS    COMPLETE   49.50  25.50\n",
            "1    149.094  Barcelona  Lionel Andrés Messi Cuccittini       SHOT  OFF_TARGET  111.65  51.65\n",
            "\n",
            "Result 1:\n",
            "   timestamp  team_name                     player_name event_type      result       x      y\n",
            "0    337.369  Barcelona  Lionel Andrés Messi Cuccittini       PASS    COMPLETE   92.50  56.50\n",
            "1    339.239  Barcelona                Jordi Alba Ramos       SHOT  OFF_TARGET  113.95  26.95\n",
            "\n",
            "Result 2:\n",
            "   timestamp         team_name                      player_name event_type      result       x      y\n",
            "0    978.568  Deportivo Alavés  Manuel Alejandro García Sánchez       PASS    COMPLETE   99.50  15.50\n",
            "1    979.616  Deportivo Alavés            Rubén Sobrino Pozuelo       SHOT  OFF_TARGET  109.05  38.65\n",
            "\n",
            "Result 3:\n",
            "   timestamp  team_name               player_name event_type      result       x      y\n",
            "0   1091.428  Barcelona           Ousmane Dembélé       PASS  INCOMPLETE  109.50  58.50\n",
            "1   1095.914  Barcelona  Luis Alberto Suárez Díaz       SHOT  OFF_TARGET  106.95  24.95\n",
            "\n",
            "Result 4:\n",
            "   timestamp  team_name               player_name event_type      result       x      y\n",
            "0   1840.205  Barcelona  Luis Alberto Suárez Díaz       PASS    COMPLETE   88.50  26.50\n",
            "1   1842.287  Barcelona           Ousmane Dembélé       SHOT  OFF_TARGET  108.05  27.35\n",
            "\n",
            "Result 5:\n",
            "   timestamp  team_name                     player_name event_type      result       x      y\n",
            "0   2103.972  Barcelona  Lionel Andrés Messi Cuccittini       PASS    COMPLETE  102.50  62.50\n",
            "1   2104.861  Barcelona                    Ivan Rakitić       SHOT  OFF_TARGET  111.95  43.65\n",
            "\n",
            "Result 6:\n",
            "   timestamp  team_name                     player_name event_type result      x      y\n",
            "0   2174.936  Barcelona  Lionel Andrés Messi Cuccittini       PASS   None  95.50  54.50\n",
            "1   2248.168  Barcelona  Lionel Andrés Messi Cuccittini       SHOT   POST  96.95  53.95\n",
            "\n",
            "Result 7:\n",
            "   timestamp  team_name                     player_name event_type    result       x      y\n",
            "0   2305.600  Barcelona  Lionel Andrés Messi Cuccittini       PASS  COMPLETE   77.50  41.50\n",
            "1   2308.083  Barcelona                 Ousmane Dembélé       SHOT     SAVED  102.45  29.15\n",
            "\n",
            "Result 8:\n",
            "   timestamp  team_name               player_name event_type      result       x      y\n",
            "0   2431.179  Barcelona          Jordi Alba Ramos       PASS    COMPLETE   60.50   3.50\n",
            "1   2434.592  Barcelona  Luis Alberto Suárez Díaz       SHOT  OFF_TARGET  109.25  29.65\n",
            "\n",
            "Result 9:\n",
            "   timestamp  team_name       player_name event_type      result       x      y\n",
            "0   2610.041  Barcelona  Jordi Alba Ramos       PASS    COMPLETE  111.50  21.50\n",
            "1   2610.612  Barcelona   Ousmane Dembélé       SHOT  OFF_TARGET  106.45  33.45\n",
            "\n",
            "Result 10:\n",
            "   timestamp  team_name       player_name event_type    result       x      y\n",
            "0    156.575  Barcelona   Ousmane Dembélé       PASS  COMPLETE   99.50  30.50\n",
            "1    159.524  Barcelona  Jordi Alba Ramos       SHOT     SAVED  116.85  31.15\n",
            "\n",
            "Result 11:\n",
            "   timestamp  team_name               player_name event_type      result       x      y\n",
            "0    527.828  Barcelona          Jordi Alba Ramos       PASS  INCOMPLETE  116.50  26.50\n",
            "1    534.355  Barcelona  Luis Alberto Suárez Díaz       SHOT     BLOCKED  111.05  24.05\n",
            "\n",
            "Result 12:\n",
            "   timestamp  team_name                player_name event_type    result       x      y\n",
            "0    593.181  Barcelona           Jordi Alba Ramos       PASS  COMPLETE  111.50  13.50\n",
            "1    596.388  Barcelona  Philippe Coutinho Correia       SHOT   BLOCKED   94.35  24.45\n",
            "\n",
            "Result 13:\n",
            "   timestamp  team_name       player_name event_type    result       x      y\n",
            "0    633.054  Barcelona   Ousmane Dembélé       PASS  COMPLETE  105.50  31.50\n",
            "1    634.490  Barcelona  Jordi Alba Ramos       SHOT   BLOCKED  107.35  25.85\n",
            "\n",
            "Result 14:\n",
            "   timestamp  team_name                     player_name event_type      result       x      y\n",
            "0    738.448  Barcelona       Philippe Coutinho Correia       PASS    COMPLETE  104.50  59.50\n",
            "1    740.847  Barcelona  Lionel Andrés Messi Cuccittini       SHOT  OFF_TARGET  100.05  58.05\n",
            "\n",
            "Result 15:\n",
            "   timestamp  team_name                player_name event_type    result       x      y\n",
            "0    932.676  Barcelona  Philippe Coutinho Correia       PASS  COMPLETE   94.50  11.50\n",
            "1    936.156  Barcelona  Philippe Coutinho Correia       SHOT   BLOCKED  100.15  27.65\n",
            "\n",
            "Result 16:\n",
            "   timestamp  team_name                     player_name event_type    result      x      y\n",
            "0   1018.492  Barcelona                    Ivan Rakitić       PASS  COMPLETE  94.50  59.50\n",
            "1   1091.954  Barcelona  Lionel Andrés Messi Cuccittini       SHOT      GOAL  96.05  45.05\n",
            "\n",
            "Result 17:\n",
            "   timestamp  team_name                     player_name event_type    result       x      y\n",
            "0   1240.630  Barcelona        Luis Alberto Suárez Díaz       PASS  COMPLETE  109.50  60.50\n",
            "1   1243.588  Barcelona  Lionel Andrés Messi Cuccittini       SHOT      POST  106.05  47.05\n",
            "\n",
            "Result 18:\n",
            "   timestamp  team_name         player_name event_type    result      x      y\n",
            "0   1403.314  Barcelona  Samuel Yves Umtiti       PASS  COMPLETE  50.50  20.50\n",
            "1   1413.375  Barcelona        Ivan Rakitić       SHOT   BLOCKED  88.65  42.75\n",
            "\n",
            "Result 19:\n",
            "   timestamp         team_name         player_name event_type      result       x      y\n",
            "0   1995.725  Deportivo Alavés    Ibai Gómez Pérez       PASS    COMPLETE   83.50  64.50\n",
            "1   1997.679  Deportivo Alavés  Adrián Marín Gómez       SHOT  OFF_TARGET  113.35  33.45\n",
            "\n",
            "Result 20:\n",
            "   timestamp  team_name                     player_name event_type    result       x      y\n",
            "0   2189.648  Barcelona  Lionel Andrés Messi Cuccittini       PASS  COMPLETE   93.50  44.50\n",
            "1   2191.606  Barcelona       Philippe Coutinho Correia       SHOT     SAVED  113.35  31.05\n",
            "\n",
            "Result 21:\n",
            "   timestamp  team_name                             player_name event_type    result       x      y\n",
            "0   2257.255  Barcelona  Arthur Henrique Ramos de Oliveira Melo       PASS  COMPLETE   85.50  34.50\n",
            "1   2261.578  Barcelona               Philippe Coutinho Correia       SHOT      GOAL  105.05  31.05\n",
            "\n",
            "Result 22:\n",
            "   timestamp  team_name                     player_name event_type    result       x      y\n",
            "0   2659.241  Barcelona          Sergi Roberto Carnicer       PASS  COMPLETE   98.50  59.50\n",
            "1   2662.638  Barcelona  Lionel Andrés Messi Cuccittini       SHOT     SAVED  106.05  46.05\n",
            "\n",
            "Result 23:\n",
            "   timestamp  team_name                     player_name event_type    result       x      y\n",
            "0   2798.906  Barcelona        Luis Alberto Suárez Díaz       PASS  COMPLETE   83.50  27.50\n",
            "1   2802.770  Barcelona  Lionel Andrés Messi Cuccittini       SHOT      GOAL  111.95  34.55\n",
            "\n"
          ],
          "name": "stdout"
        }
      ]
    },
    {
      "cell_type": "code",
      "metadata": {
        "colab": {
          "base_uri": "https://localhost:8080/"
        },
        "id": "9XMnD8DgPLIy",
        "outputId": "68a8a126-3411-40e4-89fc-8587fe98dcb8"
      },
      "source": [
        "with performance_logging(\"search\"):\n",
        "    results = matcher_with_team.search(dataset, pattern=r\"P([AH])S(?!\\1)\")\n",
        "    \n",
        "print_results(results)"
      ],
      "execution_count": 27,
      "outputs": [
        {
          "output_type": "stream",
          "text": [
            "search took: 6.55ms \n",
            "Result 0:\n",
            "   timestamp         team_name                     player_name event_type    result      x      y\n",
            "0    924.984  Deportivo Alavés            Rubén Duarte Sánchez       PASS  COMPLETE  23.50  33.50\n",
            "1    928.625         Barcelona  Lionel Andrés Messi Cuccittini       SHOT     SAVED  91.95  34.45\n",
            "\n",
            "Result 1:\n",
            "   timestamp         team_name            player_name event_type      result       x      y\n",
            "0    365.421         Barcelona  Gerard Piqué Bernabéu       PASS  INCOMPLETE    2.50  67.50\n",
            "1    367.400  Deportivo Alavés         Mubarak Wakaso       SHOT     BLOCKED  105.95  22.95\n",
            "\n",
            "Result 2:\n",
            "   timestamp         team_name               player_name event_type      result       x      y\n",
            "0   1644.990  Deportivo Alavés        Jorge Franco Alviz       PASS  INCOMPLETE   28.50  55.50\n",
            "1   1647.492         Barcelona  Luis Alberto Suárez Díaz       SHOT       SAVED  109.05  30.05\n",
            "\n"
          ],
          "name": "stdout"
        }
      ]
    },
    {
      "cell_type": "markdown",
      "metadata": {
        "id": "Op4YBW9OPjzx"
      },
      "source": [
        "# **Add zones**"
      ]
    },
    {
      "cell_type": "code",
      "metadata": {
        "id": "tnlVwu-zDWca"
      },
      "source": [
        "zones = {\n",
        "    1: ((50, 0), (120, 18)),\n",
        "    2: ((50, 18), (102, 32)),\n",
        "    3: ((50, 32), (102, 48)),\n",
        "    4: ((50, 48), (102, 62)),\n",
        "    5: ((50, 62), (120, 80)),\n",
        "    6: ((102, 18), (120, 62)),\n",
        "    7: ((0, 0), (60, 80))\n",
        "}"
      ],
      "execution_count": 28,
      "outputs": []
    },
    {
      "cell_type": "code",
      "metadata": {
        "id": "2MYmsPO6DWZc"
      },
      "source": [
        "def encoder_with_zone(event: Event):\n",
        "    if event.event_name == 'pass':\n",
        "        encoded_str = 'P'\n",
        "    elif event.event_name == 'shot':\n",
        "        encoded_str = 'S'\n",
        "    else:\n",
        "        return None\n",
        "    \n",
        "    encoded_str += 'H' if event.team.ground == Ground.HOME else 'A'\n",
        "\n",
        "    zone_id = None\n",
        "    for zone_id_, ((topleft_x, topleft_y), (bottomright_x, bottomright_y)) in zones.items():\n",
        "        if topleft_x <= event.coordinates.x < bottomright_x and \\\n",
        "            topleft_y <= event.coordinates.y < bottomright_y:\n",
        "            zone_id = zone_id_\n",
        "            break\n",
        "                    \n",
        "    if not zone_id:\n",
        "        return None\n",
        "    \n",
        "    encoded_str += str(zone_id)\n",
        "    \n",
        "    return encoded_str\n",
        "\n",
        "    \n",
        "\n",
        "matcher_with_zone = Matcher(encoder_with_zone)"
      ],
      "execution_count": 29,
      "outputs": []
    },
    {
      "cell_type": "code",
      "metadata": {
        "colab": {
          "base_uri": "https://localhost:8080/"
        },
        "id": "iGhlkHq8DWWZ",
        "outputId": "f2ec24a2-c90d-47ed-ed70-a6a8e273042b"
      },
      "source": [
        "\n",
        "with performance_logging(\"search\"):\n",
        "    results = matcher_with_zone.search(dataset, pattern=r\"(PH1)+SH\")\n",
        "    \n",
        "print_results(results)"
      ],
      "execution_count": 30,
      "outputs": [
        {
          "output_type": "stream",
          "text": [
            "search took: 18.97ms \n",
            "Result 0:\n",
            "   timestamp  team_name               player_name event_type      result       x      y\n",
            "0   2431.179  Barcelona          Jordi Alba Ramos       PASS    COMPLETE   60.50   3.50\n",
            "1   2434.592  Barcelona  Luis Alberto Suárez Díaz       SHOT  OFF_TARGET  109.25  29.65\n",
            "\n",
            "Result 1:\n",
            "   timestamp  team_name                player_name event_type    result       x      y\n",
            "0    588.139  Barcelona  Philippe Coutinho Correia       PASS  COMPLETE   76.50  15.50\n",
            "1    593.181  Barcelona           Jordi Alba Ramos       PASS  COMPLETE  111.50  13.50\n",
            "2    596.388  Barcelona  Philippe Coutinho Correia       SHOT   BLOCKED   94.35  24.45\n",
            "\n",
            "Result 2:\n",
            "   timestamp  team_name                player_name event_type    result       x      y\n",
            "0    925.128  Barcelona           Jordi Alba Ramos       PASS  COMPLETE   66.50  13.50\n",
            "1    927.669  Barcelona            Ousmane Dembélé       PASS  COMPLETE   82.50   7.50\n",
            "2    930.049  Barcelona           Jordi Alba Ramos       PASS  COMPLETE   76.50  12.50\n",
            "3    932.676  Barcelona  Philippe Coutinho Correia       PASS  COMPLETE   94.50  11.50\n",
            "4    936.156  Barcelona  Philippe Coutinho Correia       SHOT   BLOCKED  100.15  27.65\n",
            "\n"
          ],
          "name": "stdout"
        }
      ]
    },
    {
      "cell_type": "code",
      "metadata": {
        "colab": {
          "base_uri": "https://localhost:8080/"
        },
        "id": "Q0jpcG1ADWSX",
        "outputId": "6ccf9d46-3bf1-4be9-f6a3-925a6a84b13c"
      },
      "source": [
        "with performance_logging(\"search\"):\n",
        "#    results = matcher_with_team.search(dataset, pattern=r\"PH[234](PH[15])+SH\")\n",
        "    results = matcher_with_zone.search(dataset, pattern=r\"(PH.){1,2}PH[234]SH6\")\n",
        "    \n",
        "print_results(results)"
      ],
      "execution_count": 31,
      "outputs": [
        {
          "output_type": "stream",
          "text": [
            "search took: 20.07ms \n",
            "Result 0:\n",
            "   timestamp  team_name               player_name event_type      result       x      y\n",
            "0   1838.147  Barcelona           Ousmane Dembélé       PASS    COMPLETE   97.50  10.50\n",
            "1   1839.479  Barcelona          Jordi Alba Ramos       PASS    COMPLETE   89.50  12.50\n",
            "2   1840.205  Barcelona  Luis Alberto Suárez Díaz       PASS    COMPLETE   88.50  26.50\n",
            "3   1842.287  Barcelona           Ousmane Dembélé       SHOT  OFF_TARGET  108.05  27.35\n",
            "\n",
            "Result 1:\n",
            "   timestamp  team_name                     player_name event_type    result       x      y\n",
            "0   2303.597  Barcelona          Sergi Roberto Carnicer       PASS  COMPLETE   55.50  36.50\n",
            "1   2304.657  Barcelona        Luis Alberto Suárez Díaz       PASS  COMPLETE   75.50  38.50\n",
            "2   2305.600  Barcelona  Lionel Andrés Messi Cuccittini       PASS  COMPLETE   77.50  41.50\n",
            "3   2308.083  Barcelona                 Ousmane Dembélé       SHOT     SAVED  102.45  29.15\n",
            "\n",
            "Result 2:\n",
            "   timestamp  team_name                     player_name event_type    result       x      y\n",
            "0    149.781  Barcelona                    Ivan Rakitić       PASS  COMPLETE   94.50  63.50\n",
            "1    154.700  Barcelona  Lionel Andrés Messi Cuccittini       PASS  COMPLETE   89.50  42.50\n",
            "2    156.575  Barcelona                 Ousmane Dembélé       PASS  COMPLETE   99.50  30.50\n",
            "3    159.524  Barcelona                Jordi Alba Ramos       SHOT     SAVED  116.85  31.15\n",
            "\n",
            "Result 3:\n",
            "   timestamp  team_name                     player_name event_type    result       x      y\n",
            "0   2180.720  Barcelona        Sergio Busquets i Burgos       PASS  COMPLETE   26.50  51.50\n",
            "1   2189.648  Barcelona  Lionel Andrés Messi Cuccittini       PASS  COMPLETE   93.50  44.50\n",
            "2   2191.606  Barcelona       Philippe Coutinho Correia       SHOT     SAVED  113.35  31.05\n",
            "\n",
            "Result 4:\n",
            "   timestamp  team_name                             player_name event_type    result       x      y\n",
            "0   2254.058  Barcelona                  Sergi Roberto Carnicer       PASS  COMPLETE   90.50  67.50\n",
            "1   2255.073  Barcelona                Sergio Busquets i Burgos       PASS  COMPLETE   81.50  51.50\n",
            "2   2257.255  Barcelona  Arthur Henrique Ramos de Oliveira Melo       PASS  COMPLETE   85.50  34.50\n",
            "3   2261.578  Barcelona               Philippe Coutinho Correia       SHOT      GOAL  105.05  31.05\n",
            "\n",
            "Result 5:\n",
            "   timestamp  team_name                             player_name event_type    result       x      y\n",
            "0   2656.409  Barcelona  Arthur Henrique Ramos de Oliveira Melo       PASS  COMPLETE   93.50  58.50\n",
            "1   2658.435  Barcelona                   Gerard Piqué Bernabéu       PASS  COMPLETE   86.50  70.50\n",
            "2   2659.241  Barcelona                  Sergi Roberto Carnicer       PASS  COMPLETE   98.50  59.50\n",
            "3   2662.638  Barcelona          Lionel Andrés Messi Cuccittini       SHOT     SAVED  106.05  46.05\n",
            "\n",
            "Result 6:\n",
            "   timestamp  team_name                     player_name event_type    result       x      y\n",
            "0   2791.395  Barcelona                    Ivan Rakitić       PASS  COMPLETE   63.50  54.50\n",
            "1   2795.127  Barcelona                Jordi Alba Ramos       PASS  COMPLETE   91.50   5.50\n",
            "2   2798.906  Barcelona        Luis Alberto Suárez Díaz       PASS  COMPLETE   83.50  27.50\n",
            "3   2802.770  Barcelona  Lionel Andrés Messi Cuccittini       SHOT      GOAL  111.95  34.55\n",
            "\n"
          ],
          "name": "stdout"
        }
      ]
    },
    {
      "cell_type": "code",
      "metadata": {
        "id": "-RFfc_GaDWKp"
      },
      "source": [
        "from mplsoccer.pitch import Pitch \n",
        "\n",
        "def plot_results(results):\n",
        "    pitch = Pitch(pitch_type='statsbomb', orientation='horizontal',\n",
        "              pitch_color='#22312b', line_color='#c7d5cc', figsize=(16, 11),\n",
        "              constrained_layout=True, tight_layout=False)\n",
        "    \n",
        "    fig, ax = pitch.draw()\n",
        "\n",
        "    passes = []\n",
        "    for result in results:\n",
        "        for i in range(len(result) - 1):\n",
        "            passes.append((\n",
        "                result[i].coordinates.x,\n",
        "                result[i].coordinates.y,\n",
        "                result[i + 1].coordinates.x,\n",
        "                result[i + 1].coordinates.y\n",
        "            ))\n",
        "            \n",
        "    x1, y1, x2, y2 = zip(*passes)\n",
        "\n",
        "    pitch.arrows(x1, y1, x2, y2, width=2,\n",
        "             headwidth=10, headlength=10, color='#ad993c', ax=ax, label='completed passes')"
      ],
      "execution_count": 36,
      "outputs": []
    },
    {
      "cell_type": "code",
      "metadata": {
        "colab": {
          "base_uri": "https://localhost:8080/",
          "height": 297
        },
        "id": "zaTMPe70PzQt",
        "outputId": "8bcdbd4b-cfee-4aad-a9bf-ab13a7648ff1"
      },
      "source": [
        "plot_results(results)"
      ],
      "execution_count": 37,
      "outputs": [
        {
          "output_type": "display_data",
          "data": {
            "image/png": "[encoded data removed]",
            "text/plain": [
              "<Figure size 432x288 with 1 Axes>"
            ]
          },
          "metadata": {
            "tags": []
          }
        }
      ]
    },
    {
      "cell_type": "code",
      "metadata": {
        "colab": {
          "base_uri": "https://localhost:8080/",
          "height": 297
        },
        "id": "ZNceC05vPzNf",
        "outputId": "1ecb829d-4153-429b-a942-4435eed44bb7"
      },
      "source": [
        "results = matcher_with_zone.search(\n",
        "    dataset, \n",
        "    pattern=r\"PH[15]PH[234]SH6\"\n",
        ")  \n",
        "plot_results(results)"
      ],
      "execution_count": 38,
      "outputs": [
        {
          "output_type": "display_data",
          "data": {
            "image/png": "[encoded data removed]",
            "text/plain": [
              "<Figure size 432x288 with 1 Axes>"
            ]
          },
          "metadata": {
            "tags": []
          }
        }
      ]
    },
    {
      "cell_type": "code",
      "metadata": {
        "id": "6ZBvN1obPzJ_"
      },
      "source": [
        ""
      ],
      "execution_count": null,
      "outputs": []
    }
  ]
}